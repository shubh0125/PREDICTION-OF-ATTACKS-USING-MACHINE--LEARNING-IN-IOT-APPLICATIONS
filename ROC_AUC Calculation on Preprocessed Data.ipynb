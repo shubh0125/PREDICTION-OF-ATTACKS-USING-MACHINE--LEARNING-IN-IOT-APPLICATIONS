{
 "cells": [
  {
   "cell_type": "markdown",
   "metadata": {},
   "source": [
    "# The steps are similar to \"Result Analysis on Preprocessed Data (Accuracy, Precision, Recall, F1, Confusion Matrix).ipynb\""
   ]
  },
  {
   "cell_type": "code",
   "execution_count": 1,
   "metadata": {},
   "outputs": [],
   "source": [
    "import pandas as pd"
   ]
  },
  {
   "cell_type": "code",
   "execution_count": 2,
   "metadata": {},
   "outputs": [],
   "source": [
    "df_spark = pd.read_csv('df_spark.csv')"
   ]
  },
  {
   "cell_type": "code",
   "execution_count": 3,
   "metadata": {},
   "outputs": [
    {
     "data": {
      "text/html": [
       "<div>\n",
       "<style scoped>\n",
       "    .dataframe tbody tr th:only-of-type {\n",
       "        vertical-align: middle;\n",
       "    }\n",
       "\n",
       "    .dataframe tbody tr th {\n",
       "        vertical-align: top;\n",
       "    }\n",
       "\n",
       "    .dataframe thead th {\n",
       "        text-align: right;\n",
       "    }\n",
       "</style>\n",
       "<table border=\"1\" class=\"dataframe\">\n",
       "  <thead>\n",
       "    <tr style=\"text-align: right;\">\n",
       "      <th></th>\n",
       "      <th>Unnamed: 0</th>\n",
       "      <th>0</th>\n",
       "      <th>1</th>\n",
       "      <th>2</th>\n",
       "      <th>3</th>\n",
       "      <th>4</th>\n",
       "      <th>5</th>\n",
       "      <th>6</th>\n",
       "      <th>7</th>\n",
       "      <th>8</th>\n",
       "      <th>9</th>\n",
       "      <th>10</th>\n",
       "      <th>11</th>\n",
       "    </tr>\n",
       "  </thead>\n",
       "  <tbody>\n",
       "    <tr>\n",
       "      <th>0</th>\n",
       "      <td>0</td>\n",
       "      <td>7.0</td>\n",
       "      <td>21.0</td>\n",
       "      <td>30.0</td>\n",
       "      <td>2.0</td>\n",
       "      <td>3.0</td>\n",
       "      <td>30.0</td>\n",
       "      <td>2.0</td>\n",
       "      <td>3.0</td>\n",
       "      <td>59.0</td>\n",
       "      <td>7.0</td>\n",
       "      <td>2.0</td>\n",
       "      <td>0.0</td>\n",
       "    </tr>\n",
       "    <tr>\n",
       "      <th>1</th>\n",
       "      <td>1</td>\n",
       "      <td>7.0</td>\n",
       "      <td>32.0</td>\n",
       "      <td>70.0</td>\n",
       "      <td>2.0</td>\n",
       "      <td>4.0</td>\n",
       "      <td>68.0</td>\n",
       "      <td>2.0</td>\n",
       "      <td>4.0</td>\n",
       "      <td>134.0</td>\n",
       "      <td>7.0</td>\n",
       "      <td>2.0</td>\n",
       "      <td>0.0</td>\n",
       "    </tr>\n",
       "    <tr>\n",
       "      <th>2</th>\n",
       "      <td>2</td>\n",
       "      <td>7.0</td>\n",
       "      <td>15.0</td>\n",
       "      <td>1.0</td>\n",
       "      <td>2.0</td>\n",
       "      <td>2.0</td>\n",
       "      <td>0.0</td>\n",
       "      <td>2.0</td>\n",
       "      <td>2.0</td>\n",
       "      <td>0.0</td>\n",
       "      <td>7.0</td>\n",
       "      <td>2.0</td>\n",
       "      <td>0.0</td>\n",
       "    </tr>\n",
       "    <tr>\n",
       "      <th>3</th>\n",
       "      <td>3</td>\n",
       "      <td>7.0</td>\n",
       "      <td>33.0</td>\n",
       "      <td>77.0</td>\n",
       "      <td>2.0</td>\n",
       "      <td>7.0</td>\n",
       "      <td>73.0</td>\n",
       "      <td>2.0</td>\n",
       "      <td>7.0</td>\n",
       "      <td>144.0</td>\n",
       "      <td>7.0</td>\n",
       "      <td>2.0</td>\n",
       "      <td>0.0</td>\n",
       "    </tr>\n",
       "    <tr>\n",
       "      <th>4</th>\n",
       "      <td>4</td>\n",
       "      <td>7.0</td>\n",
       "      <td>55.0</td>\n",
       "      <td>78.0</td>\n",
       "      <td>3.0</td>\n",
       "      <td>7.0</td>\n",
       "      <td>74.0</td>\n",
       "      <td>3.0</td>\n",
       "      <td>7.0</td>\n",
       "      <td>146.0</td>\n",
       "      <td>8.0</td>\n",
       "      <td>2.0</td>\n",
       "      <td>0.0</td>\n",
       "    </tr>\n",
       "  </tbody>\n",
       "</table>\n",
       "</div>"
      ],
      "text/plain": [
       "   Unnamed: 0    0     1     2    3    4     5    6    7      8    9   10   11\n",
       "0           0  7.0  21.0  30.0  2.0  3.0  30.0  2.0  3.0   59.0  7.0  2.0  0.0\n",
       "1           1  7.0  32.0  70.0  2.0  4.0  68.0  2.0  4.0  134.0  7.0  2.0  0.0\n",
       "2           2  7.0  15.0   1.0  2.0  2.0   0.0  2.0  2.0    0.0  7.0  2.0  0.0\n",
       "3           3  7.0  33.0  77.0  2.0  7.0  73.0  2.0  7.0  144.0  7.0  2.0  0.0\n",
       "4           4  7.0  55.0  78.0  3.0  7.0  74.0  3.0  7.0  146.0  8.0  2.0  0.0"
      ]
     },
     "execution_count": 3,
     "metadata": {},
     "output_type": "execute_result"
    }
   ],
   "source": [
    "df_spark.head()"
   ]
  },
  {
   "cell_type": "code",
   "execution_count": 4,
   "metadata": {},
   "outputs": [],
   "source": [
    "df_spark = df_spark.drop(columns=\"Unnamed: 0\")"
   ]
  },
  {
   "cell_type": "code",
   "execution_count": 5,
   "metadata": {},
   "outputs": [
    {
     "data": {
      "text/html": [
       "<div>\n",
       "<style scoped>\n",
       "    .dataframe tbody tr th:only-of-type {\n",
       "        vertical-align: middle;\n",
       "    }\n",
       "\n",
       "    .dataframe tbody tr th {\n",
       "        vertical-align: top;\n",
       "    }\n",
       "\n",
       "    .dataframe thead th {\n",
       "        text-align: right;\n",
       "    }\n",
       "</style>\n",
       "<table border=\"1\" class=\"dataframe\">\n",
       "  <thead>\n",
       "    <tr style=\"text-align: right;\">\n",
       "      <th></th>\n",
       "      <th>0</th>\n",
       "      <th>1</th>\n",
       "      <th>2</th>\n",
       "      <th>3</th>\n",
       "      <th>4</th>\n",
       "      <th>5</th>\n",
       "      <th>6</th>\n",
       "      <th>7</th>\n",
       "      <th>8</th>\n",
       "      <th>9</th>\n",
       "      <th>10</th>\n",
       "      <th>11</th>\n",
       "    </tr>\n",
       "  </thead>\n",
       "  <tbody>\n",
       "    <tr>\n",
       "      <th>0</th>\n",
       "      <td>7.0</td>\n",
       "      <td>21.0</td>\n",
       "      <td>30.0</td>\n",
       "      <td>2.0</td>\n",
       "      <td>3.0</td>\n",
       "      <td>30.0</td>\n",
       "      <td>2.0</td>\n",
       "      <td>3.0</td>\n",
       "      <td>59.0</td>\n",
       "      <td>7.0</td>\n",
       "      <td>2.0</td>\n",
       "      <td>0.0</td>\n",
       "    </tr>\n",
       "    <tr>\n",
       "      <th>1</th>\n",
       "      <td>7.0</td>\n",
       "      <td>32.0</td>\n",
       "      <td>70.0</td>\n",
       "      <td>2.0</td>\n",
       "      <td>4.0</td>\n",
       "      <td>68.0</td>\n",
       "      <td>2.0</td>\n",
       "      <td>4.0</td>\n",
       "      <td>134.0</td>\n",
       "      <td>7.0</td>\n",
       "      <td>2.0</td>\n",
       "      <td>0.0</td>\n",
       "    </tr>\n",
       "    <tr>\n",
       "      <th>2</th>\n",
       "      <td>7.0</td>\n",
       "      <td>15.0</td>\n",
       "      <td>1.0</td>\n",
       "      <td>2.0</td>\n",
       "      <td>2.0</td>\n",
       "      <td>0.0</td>\n",
       "      <td>2.0</td>\n",
       "      <td>2.0</td>\n",
       "      <td>0.0</td>\n",
       "      <td>7.0</td>\n",
       "      <td>2.0</td>\n",
       "      <td>0.0</td>\n",
       "    </tr>\n",
       "    <tr>\n",
       "      <th>3</th>\n",
       "      <td>7.0</td>\n",
       "      <td>33.0</td>\n",
       "      <td>77.0</td>\n",
       "      <td>2.0</td>\n",
       "      <td>7.0</td>\n",
       "      <td>73.0</td>\n",
       "      <td>2.0</td>\n",
       "      <td>7.0</td>\n",
       "      <td>144.0</td>\n",
       "      <td>7.0</td>\n",
       "      <td>2.0</td>\n",
       "      <td>0.0</td>\n",
       "    </tr>\n",
       "    <tr>\n",
       "      <th>4</th>\n",
       "      <td>7.0</td>\n",
       "      <td>55.0</td>\n",
       "      <td>78.0</td>\n",
       "      <td>3.0</td>\n",
       "      <td>7.0</td>\n",
       "      <td>74.0</td>\n",
       "      <td>3.0</td>\n",
       "      <td>7.0</td>\n",
       "      <td>146.0</td>\n",
       "      <td>8.0</td>\n",
       "      <td>2.0</td>\n",
       "      <td>0.0</td>\n",
       "    </tr>\n",
       "  </tbody>\n",
       "</table>\n",
       "</div>"
      ],
      "text/plain": [
       "     0     1     2    3    4     5    6    7      8    9   10   11\n",
       "0  7.0  21.0  30.0  2.0  3.0  30.0  2.0  3.0   59.0  7.0  2.0  0.0\n",
       "1  7.0  32.0  70.0  2.0  4.0  68.0  2.0  4.0  134.0  7.0  2.0  0.0\n",
       "2  7.0  15.0   1.0  2.0  2.0   0.0  2.0  2.0    0.0  7.0  2.0  0.0\n",
       "3  7.0  33.0  77.0  2.0  7.0  73.0  2.0  7.0  144.0  7.0  2.0  0.0\n",
       "4  7.0  55.0  78.0  3.0  7.0  74.0  3.0  7.0  146.0  8.0  2.0  0.0"
      ]
     },
     "execution_count": 5,
     "metadata": {},
     "output_type": "execute_result"
    }
   ],
   "source": [
    "df_spark.head()"
   ]
  },
  {
   "cell_type": "code",
   "execution_count": 6,
   "metadata": {},
   "outputs": [],
   "source": [
    "y = df_spark.iloc[:,0].values\n",
    "X = df_spark.iloc[:,1:].values"
   ]
  },
  {
   "cell_type": "code",
   "execution_count": 7,
   "metadata": {},
   "outputs": [],
   "source": [
    "from sklearn.preprocessing import label_binarize"
   ]
  },
  {
   "cell_type": "code",
   "execution_count": 8,
   "metadata": {},
   "outputs": [],
   "source": [
    "y = label_binarize(y, classes=[0, 1, 2, 3, 4, 5, 6, 7])"
   ]
  },
  {
   "cell_type": "code",
   "execution_count": 9,
   "metadata": {},
   "outputs": [],
   "source": [
    "n_classes = y.shape[1]"
   ]
  },
  {
   "cell_type": "code",
   "execution_count": 10,
   "metadata": {},
   "outputs": [
    {
     "data": {
      "text/plain": [
       "8"
      ]
     },
     "execution_count": 10,
     "metadata": {},
     "output_type": "execute_result"
    }
   ],
   "source": [
    "n_classes"
   ]
  },
  {
   "cell_type": "code",
   "execution_count": 11,
   "metadata": {},
   "outputs": [],
   "source": [
    "from sklearn.model_selection import train_test_split\n",
    "X_train, X_test, y_train, y_test = train_test_split(X,y, test_size=0.20, random_state = 1)"
   ]
  },
  {
   "cell_type": "code",
   "execution_count": 12,
   "metadata": {},
   "outputs": [],
   "source": [
    "from sklearn.preprocessing import StandardScaler\n",
    "from sklearn.pipeline import Pipeline\n",
    "from sklearn.linear_model import LogisticRegression\n",
    "from sklearn.model_selection import cross_val_score\n",
    "import matplotlib.pyplot as plt\n",
    "from sklearn.model_selection import learning_curve\n",
    "import numpy as np\n",
    "from sklearn.multiclass import OneVsRestClassifier\n",
    "from sklearn.metrics import roc_curve, auc\n",
    "from scipy import interp\n",
    "from itertools import cycle"
   ]
  },
  {
   "cell_type": "code",
   "execution_count": 13,
   "metadata": {},
   "outputs": [],
   "source": [
    "pipe_lr = Pipeline([('scl', StandardScaler()),('clf', OneVsRestClassifier(LogisticRegression(penalty='l2', random_state=0)))])"
   ]
  },
  {
   "cell_type": "code",
   "execution_count": 14,
   "metadata": {},
   "outputs": [],
   "source": [
    "from sklearn.svm import LinearSVC"
   ]
  },
  {
   "cell_type": "code",
   "execution_count": 15,
   "metadata": {},
   "outputs": [],
   "source": [
    "pipe_svc = Pipeline([('scl', StandardScaler()),('clf', OneVsRestClassifier(LinearSVC()))])"
   ]
  },
  {
   "cell_type": "code",
   "execution_count": 16,
   "metadata": {},
   "outputs": [],
   "source": [
    "from sklearn import tree"
   ]
  },
  {
   "cell_type": "code",
   "execution_count": 17,
   "metadata": {},
   "outputs": [],
   "source": [
    "pipe_tree = Pipeline([('scl', StandardScaler()),('clf', OneVsRestClassifier(tree.DecisionTreeClassifier()))])"
   ]
  },
  {
   "cell_type": "code",
   "execution_count": 18,
   "metadata": {},
   "outputs": [],
   "source": [
    "from sklearn.ensemble import RandomForestClassifier"
   ]
  },
  {
   "cell_type": "code",
   "execution_count": 19,
   "metadata": {},
   "outputs": [],
   "source": [
    "pipe_rnd = Pipeline([('scl', StandardScaler()),('clf', OneVsRestClassifier(RandomForestClassifier(warm_start=True,n_estimators=10)))])"
   ]
  },
  {
   "cell_type": "code",
   "execution_count": 20,
   "metadata": {},
   "outputs": [],
   "source": [
    "from sklearn.neural_network import MLPClassifier\n",
    "mlp = MLPClassifier(hidden_layer_sizes=(50,), alpha=1e-4, solver='sgd', verbose=10, tol=1e-4, random_state=1, learning_rate_init=.1)"
   ]
  },
  {
   "cell_type": "code",
   "execution_count": 21,
   "metadata": {},
   "outputs": [],
   "source": [
    "pipe_mlp = Pipeline([('scl', StandardScaler()),('clf', OneVsRestClassifier(mlp))])"
   ]
  },
  {
   "cell_type": "markdown",
   "metadata": {},
   "source": [
    "# Logistic Regression"
   ]
  },
  {
   "cell_type": "code",
   "execution_count": 22,
   "metadata": {},
   "outputs": [
    {
     "name": "stderr",
     "output_type": "stream",
     "text": [
      "D:\\ana\\lib\\site-packages\\sklearn\\linear_model\\_logistic.py:763: ConvergenceWarning: lbfgs failed to converge (status=1):\n",
      "STOP: TOTAL NO. of ITERATIONS REACHED LIMIT.\n",
      "\n",
      "Increase the number of iterations (max_iter) or scale the data as shown in:\n",
      "    https://scikit-learn.org/stable/modules/preprocessing.html\n",
      "Please also refer to the documentation for alternative solver options:\n",
      "    https://scikit-learn.org/stable/modules/linear_model.html#logistic-regression\n",
      "  n_iter_i = _check_optimize_result(\n",
      "D:\\ana\\lib\\site-packages\\sklearn\\linear_model\\_logistic.py:763: ConvergenceWarning: lbfgs failed to converge (status=1):\n",
      "STOP: TOTAL NO. of ITERATIONS REACHED LIMIT.\n",
      "\n",
      "Increase the number of iterations (max_iter) or scale the data as shown in:\n",
      "    https://scikit-learn.org/stable/modules/preprocessing.html\n",
      "Please also refer to the documentation for alternative solver options:\n",
      "    https://scikit-learn.org/stable/modules/linear_model.html#logistic-regression\n",
      "  n_iter_i = _check_optimize_result(\n"
     ]
    }
   ],
   "source": [
    "pipe_lr = pipe_lr.fit(X_train, y_train)"
   ]
  },
  {
   "cell_type": "code",
   "execution_count": 23,
   "metadata": {},
   "outputs": [],
   "source": [
    "y_score_lr = pipe_lr.decision_function(X_test)"
   ]
  },
  {
   "cell_type": "code",
   "execution_count": 24,
   "metadata": {},
   "outputs": [
    {
     "data": {
      "text/plain": [
       "array([[-40.6708806 , -15.20018535, -26.3696608 , ...,  -5.41419797,\n",
       "        -24.64889956,   6.61528567],\n",
       "       [ -5.12046713, -20.44905642, -22.39620019, ...,  -7.89225253,\n",
       "         -8.48823566,   4.03245411],\n",
       "       [ -8.18246862, -13.71499458, -10.95258143, ...,  -6.47704395,\n",
       "         -9.68082168,   6.51574591],\n",
       "       ...,\n",
       "       [-36.97965994, -13.29301778, -14.27828033, ...,  -7.56575423,\n",
       "        -21.6027136 ,   4.14261761],\n",
       "       [-58.92187568, -11.02865516,  -7.980167  , ..., -13.1209099 ,\n",
       "        -20.00156062,   5.49315955],\n",
       "       [-27.22285821, -12.16001476, -19.77124181, ...,  -6.61296371,\n",
       "        -18.61837558,   3.93255002]])"
      ]
     },
     "execution_count": 24,
     "metadata": {},
     "output_type": "execute_result"
    }
   ],
   "source": [
    "y_score_lr"
   ]
  },
  {
   "cell_type": "code",
   "execution_count": 25,
   "metadata": {},
   "outputs": [],
   "source": [
    "fpr_lr = dict()\n",
    "tpr_lr = dict()\n",
    "roc_auc_lr = dict()\n",
    "for i in range(n_classes):\n",
    "    fpr_lr[i], tpr_lr[i], _ = roc_curve(y_test[:, i], y_score_lr[:, i])\n",
    "    roc_auc_lr[i] = auc(fpr_lr[i], tpr_lr[i])"
   ]
  },
  {
   "cell_type": "code",
   "execution_count": 26,
   "metadata": {},
   "outputs": [
    {
     "data": {
      "image/png": "[encoded data removed]",
      "text/plain": [
       "<Figure size 504x432 with 1 Axes>"
      ]
     },
     "metadata": {
      "needs_background": "light"
     },
     "output_type": "display_data"
    }
   ],
   "source": [
    "lw = 2\n",
    "classes = [\"DoS\",\"D.P\",\"M.C\",\"M.O\",\"SC\",\"SP\",\"W.S\",\"NL\"]\n",
    "plt.figure(figsize=(7,6))\n",
    "ax=plt.subplot(111)\n",
    "colors = cycle(['red','maroon','navy','aqua', 'darkorange', 'cornflowerblue','olive','darkslategray'])\n",
    "for i, color in zip(range(n_classes), colors):\n",
    "    plt.plot(fpr_lr[i], tpr_lr[i], color=color, lw=lw,\n",
    "             label='{0} (area = {1:0.2f})'\n",
    "             ''.format(classes[i], roc_auc_lr[i]))\n",
    "\n",
    "plt.plot([0, 1], [0, 1], 'k--', lw=lw)\n",
    "plt.xlim([0.0, 1.0])\n",
    "plt.ylim([0.0, 1.0])\n",
    "plt.xticks(fontsize=11,weight='bold')\n",
    "plt.yticks(fontsize=11,weight='bold')\n",
    "plt.setp(ax.spines.values(), linewidth=2)\n",
    "ax.xaxis.set_tick_params(width=2)\n",
    "ax.yaxis.set_tick_params(width=2)\n",
    "plt.xlabel('False Positive Rate',fontsize=12,weight='bold')\n",
    "plt.ylabel('True Positive Rate',fontsize=12,weight='bold')\n",
    "plt.legend(loc=\"lower right\")\n",
    "plt.savefig(\"ROC_of_Logistic_Regression\")"
   ]
  },
  {
   "cell_type": "markdown",
   "metadata": {},
   "source": [
    "# SVM"
   ]
  },
  {
   "cell_type": "code",
   "execution_count": 27,
   "metadata": {},
   "outputs": [
    {
     "name": "stderr",
     "output_type": "stream",
     "text": [
      "D:\\ana\\lib\\site-packages\\sklearn\\svm\\_base.py:985: ConvergenceWarning: Liblinear failed to converge, increase the number of iterations.\n",
      "  warnings.warn(\"Liblinear failed to converge, increase \"\n",
      "D:\\ana\\lib\\site-packages\\sklearn\\svm\\_base.py:985: ConvergenceWarning: Liblinear failed to converge, increase the number of iterations.\n",
      "  warnings.warn(\"Liblinear failed to converge, increase \"\n",
      "D:\\ana\\lib\\site-packages\\sklearn\\svm\\_base.py:985: ConvergenceWarning: Liblinear failed to converge, increase the number of iterations.\n",
      "  warnings.warn(\"Liblinear failed to converge, increase \"\n",
      "D:\\ana\\lib\\site-packages\\sklearn\\svm\\_base.py:985: ConvergenceWarning: Liblinear failed to converge, increase the number of iterations.\n",
      "  warnings.warn(\"Liblinear failed to converge, increase \"\n",
      "D:\\ana\\lib\\site-packages\\sklearn\\svm\\_base.py:985: ConvergenceWarning: Liblinear failed to converge, increase the number of iterations.\n",
      "  warnings.warn(\"Liblinear failed to converge, increase \"\n",
      "D:\\ana\\lib\\site-packages\\sklearn\\svm\\_base.py:985: ConvergenceWarning: Liblinear failed to converge, increase the number of iterations.\n",
      "  warnings.warn(\"Liblinear failed to converge, increase \"\n"
     ]
    }
   ],
   "source": [
    "pipe_svc = pipe_svc.fit(X_train, y_train)\n",
    "y_pred_train = pipe_svc.predict(X_train)\n",
    "y_pred_test = pipe_svc.predict(X_test)"
   ]
  },
  {
   "cell_type": "code",
   "execution_count": 28,
   "metadata": {},
   "outputs": [],
   "source": [
    "y_score_svc = pipe_svc.decision_function(X_test)"
   ]
  },
  {
   "cell_type": "code",
   "execution_count": 29,
   "metadata": {},
   "outputs": [],
   "source": [
    "fpr_svc = dict()\n",
    "tpr_svc = dict()\n",
    "roc_auc_svc = dict()\n",
    "for i in range(n_classes):\n",
    "    fpr_svc[i], tpr_svc[i], _ = roc_curve(y_test[:, i], y_score_svc[:, i])\n",
    "    roc_auc_svc[i] = auc(fpr_svc[i], tpr_svc[i])"
   ]
  },
  {
   "cell_type": "code",
   "execution_count": 30,
   "metadata": {},
   "outputs": [
    {
     "data": {
      "image/png": "[encoded data removed]",
      "text/plain": [
       "<Figure size 504x432 with 1 Axes>"
      ]
     },
     "metadata": {
      "needs_background": "light"
     },
     "output_type": "display_data"
    }
   ],
   "source": [
    "lw = 2\n",
    "classes = [\"DoS\",\"D.P\",\"M.C\",\"M.O\",\"SC\",\"SP\",\"W.S\",\"NL\"]\n",
    "plt.figure(figsize=(7,6))\n",
    "ax=plt.subplot(111)\n",
    "colors = cycle(['red','maroon','navy','aqua', 'darkorange', 'cornflowerblue','olive','darkslategray'])\n",
    "for i, color in zip(range(n_classes), colors):\n",
    "    plt.plot(fpr_svc[i], tpr_svc[i], color=color, lw=lw,\n",
    "             label='{0} (area = {1:0.2f})'\n",
    "             ''.format(classes[i], roc_auc_svc[i]))\n",
    "\n",
    "plt.plot([0, 1], [0, 1], 'k--', lw=lw)\n",
    "plt.xlim([0.0, 1.0])\n",
    "plt.ylim([0.0, 1.0])\n",
    "plt.xticks(fontsize=11,weight='bold')\n",
    "plt.yticks(fontsize=11,weight='bold')\n",
    "plt.setp(ax.spines.values(), linewidth=2)\n",
    "ax.xaxis.set_tick_params(width=2)\n",
    "ax.yaxis.set_tick_params(width=2)\n",
    "plt.xlabel('False Positive Rate',fontsize=12,weight='bold')\n",
    "plt.ylabel('True Positive Rate',fontsize=12,weight='bold')\n",
    "plt.legend(loc=\"lower right\")\n",
    "plt.savefig(\"ROC_of_SVM\")"
   ]
  },
  {
   "cell_type": "markdown",
   "metadata": {},
   "source": [
    "# Decision Tree"
   ]
  },
  {
   "cell_type": "code",
   "execution_count": 31,
   "metadata": {},
   "outputs": [],
   "source": [
    "pipe_tree = pipe_tree.fit(X_train, y_train)"
   ]
  },
  {
   "cell_type": "code",
   "execution_count": 32,
   "metadata": {},
   "outputs": [],
   "source": [
    "y_score_tree = pipe_tree.predict_proba(X_test)\n",
    "fpr_tree = dict()\n",
    "tpr_tree = dict()\n",
    "roc_auc_tree = dict()\n",
    "for i in range(n_classes):\n",
    "    fpr_tree[i], tpr_tree[i], _ = roc_curve(y_test[:, i], y_score_tree[:, i])\n",
    "    roc_auc_tree[i] = auc(fpr_tree[i], tpr_tree[i])"
   ]
  },
  {
   "cell_type": "code",
   "execution_count": 33,
   "metadata": {},
   "outputs": [
    {
     "data": {
      "image/png": "[encoded data removed]",
      "text/plain": [
       "<Figure size 504x432 with 1 Axes>"
      ]
     },
     "metadata": {
      "needs_background": "light"
     },
     "output_type": "display_data"
    }
   ],
   "source": [
    "lw = 2\n",
    "classes = [\"DoS\",\"D.P\",\"M.C\",\"M.O\",\"SC\",\"SP\",\"W.S\",\"NL\"]\n",
    "plt.figure(figsize=(7,6))\n",
    "ax=plt.subplot(111)\n",
    "colors = cycle(['red','maroon','navy','aqua', 'darkorange', 'cornflowerblue','olive','darkslategray'])\n",
    "for i, color in zip(range(n_classes), colors):\n",
    "    plt.plot(fpr_tree[i], tpr_tree[i], color=color, lw=lw,\n",
    "             label='{0} (area = {1:0.2f})'\n",
    "             ''.format(classes[i], roc_auc_tree[i]))\n",
    "\n",
    "plt.plot([0, 1], [0, 1], 'k--', lw=lw)\n",
    "plt.xlim([0.0, 1.0])\n",
    "plt.ylim([0.0, 1.0])\n",
    "plt.xticks(fontsize=11,weight='bold')\n",
    "plt.yticks(fontsize=11,weight='bold')\n",
    "plt.setp(ax.spines.values(), linewidth=2)\n",
    "ax.xaxis.set_tick_params(width=2)\n",
    "ax.yaxis.set_tick_params(width=2)\n",
    "plt.xlabel('False Positive Rate',fontsize=12,weight='bold')\n",
    "plt.ylabel('True Positive Rate',fontsize=12,weight='bold')\n",
    "plt.legend(loc=\"lower right\")\n",
    "plt.savefig(\"ROC_of_Decision_Tree\")"
   ]
  },
  {
   "cell_type": "markdown",
   "metadata": {},
   "source": [
    "# Random Forest"
   ]
  },
  {
   "cell_type": "code",
   "execution_count": 34,
   "metadata": {},
   "outputs": [],
   "source": [
    "pipe_rnd = pipe_rnd.fit(X_train, y_train)"
   ]
  },
  {
   "cell_type": "code",
   "execution_count": 35,
   "metadata": {},
   "outputs": [],
   "source": [
    "y_score_rnd = pipe_rnd.predict_proba(X_test)\n",
    "fpr_rnd = dict()\n",
    "tpr_rnd = dict()\n",
    "roc_auc_rnd = dict()\n",
    "for i in range(n_classes):\n",
    "    fpr_rnd[i], tpr_rnd[i], _ = roc_curve(y_test[:, i], y_score_rnd[:, i])\n",
    "    roc_auc_rnd[i] = auc(fpr_rnd[i], tpr_rnd[i])"
   ]
  },
  {
   "cell_type": "code",
   "execution_count": 36,
   "metadata": {},
   "outputs": [
    {
     "data": {
      "image/png": "[encoded data removed]",
      "text/plain": [
       "<Figure size 504x432 with 1 Axes>"
      ]
     },
     "metadata": {
      "needs_background": "light"
     },
     "output_type": "display_data"
    }
   ],
   "source": [
    "lw = 2\n",
    "classes = [\"DoS\",\"D.P\",\"M.C\",\"M.O\",\"SC\",\"SP\",\"W.S\",\"NL\"]\n",
    "plt.figure(figsize=(7,6))\n",
    "ax=plt.subplot(111)\n",
    "colors = cycle(['red','maroon','navy','aqua', 'darkorange', 'cornflowerblue','olive','darkslategray'])\n",
    "for i, color in zip(range(n_classes), colors):\n",
    "    plt.plot(fpr_rnd[i], tpr_rnd[i], color=color, lw=lw,\n",
    "             label='{0} (area = {1:0.2f})'\n",
    "             ''.format(classes[i], roc_auc_rnd[i]))\n",
    "\n",
    "plt.plot([0, 1], [0, 1], 'k--', lw=lw)\n",
    "plt.xlim([0.0, 1.0])\n",
    "plt.ylim([0.0, 1.0])\n",
    "plt.xticks(fontsize=11,weight='bold')\n",
    "plt.yticks(fontsize=11,weight='bold')\n",
    "plt.setp(ax.spines.values(), linewidth=2)\n",
    "ax.xaxis.set_tick_params(width=2)\n",
    "ax.yaxis.set_tick_params(width=2)\n",
    "plt.xlabel('False Positive Rate',fontsize=12,weight='bold')\n",
    "plt.ylabel('True Positive Rate',fontsize=12,weight='bold')\n",
    "plt.legend(loc=\"lower right\")\n",
    "plt.savefig(\"ROC_of_Random_Forrest\")"
   ]
  },
  {
   "cell_type": "markdown",
   "metadata": {},
   "source": [
    "# ANN"
   ]
  },
  {
   "cell_type": "code",
   "execution_count": null,
   "metadata": {},
   "outputs": [
    {
     "name": "stdout",
     "output_type": "stream",
     "text": [
      "Iteration 1, loss = 0.01747635\n",
      "Iteration 2, loss = 0.01242359\n",
      "Iteration 3, loss = 0.01219138\n",
      "Iteration 4, loss = 0.01213977\n",
      "Iteration 5, loss = 0.01206942\n",
      "Iteration 6, loss = 0.01195333\n",
      "Iteration 7, loss = 0.01190263\n",
      "Iteration 8, loss = 0.01188070\n",
      "Iteration 9, loss = 0.01179250\n",
      "Iteration 10, loss = 0.01184380\n",
      "Iteration 11, loss = 0.01180049\n",
      "Iteration 12, loss = 0.01182816\n",
      "Iteration 13, loss = 0.01178547\n",
      "Iteration 14, loss = 0.01173279\n",
      "Iteration 15, loss = 0.01179253\n",
      "Iteration 16, loss = 0.01172668\n",
      "Iteration 17, loss = 0.01173873\n",
      "Training loss did not improve more than tol=0.000100 for 10 consecutive epochs. Stopping.\n",
      "Iteration 1, loss = 0.00544625\n",
      "Iteration 2, loss = 0.00202050\n",
      "Iteration 3, loss = 0.00149718\n",
      "Iteration 4, loss = 0.00114145\n",
      "Iteration 5, loss = 0.00089673\n",
      "Iteration 6, loss = 0.00071281\n",
      "Iteration 7, loss = 0.00055928\n",
      "Iteration 8, loss = 0.00044291\n",
      "Iteration 9, loss = 0.00035870\n",
      "Iteration 10, loss = 0.00029026\n",
      "Iteration 11, loss = 0.00023988\n",
      "Iteration 12, loss = 0.00021063\n",
      "Iteration 13, loss = 0.00017934\n",
      "Iteration 14, loss = 0.00016074\n",
      "Iteration 15, loss = 0.00014546\n",
      "Iteration 16, loss = 0.00013007\n",
      "Iteration 17, loss = 0.00011996\n",
      "Iteration 18, loss = 0.00011006\n",
      "Iteration 19, loss = 0.00010346\n",
      "Training loss did not improve more than tol=0.000100 for 10 consecutive epochs. Stopping.\n",
      "Iteration 1, loss = 0.00625678\n",
      "Iteration 2, loss = 0.00162347\n",
      "Iteration 3, loss = 0.00104493\n",
      "Iteration 4, loss = 0.00074767\n",
      "Iteration 5, loss = 0.00055283\n",
      "Iteration 6, loss = 0.00042909\n",
      "Iteration 7, loss = 0.00034367\n",
      "Iteration 8, loss = 0.00029106\n",
      "Iteration 9, loss = 0.00024622\n",
      "Iteration 10, loss = 0.00021310\n",
      "Iteration 11, loss = 0.00018807\n",
      "Iteration 12, loss = 0.00016777\n",
      "Iteration 13, loss = 0.00015081\n",
      "Iteration 14, loss = 0.00013832\n",
      "Iteration 15, loss = 0.00012815\n",
      "Iteration 16, loss = 0.00011725\n",
      "Iteration 17, loss = 0.00010939\n",
      "Training loss did not improve more than tol=0.000100 for 10 consecutive epochs. Stopping.\n",
      "Iteration 1, loss = 0.00653776\n",
      "Iteration 2, loss = 0.00118948\n",
      "Iteration 3, loss = 0.00059300\n",
      "Iteration 4, loss = 0.00038536\n",
      "Iteration 5, loss = 0.00028753\n",
      "Iteration 6, loss = 0.00023158\n",
      "Iteration 7, loss = 0.00019211\n",
      "Iteration 8, loss = 0.00016507\n",
      "Iteration 9, loss = 0.00014505\n",
      "Iteration 10, loss = 0.00012788\n",
      "Iteration 11, loss = 0.00011507\n",
      "Iteration 12, loss = 0.00010546\n",
      "Iteration 13, loss = 0.00009728\n",
      "Iteration 14, loss = 0.00009043\n",
      "Iteration 15, loss = 0.00008506\n",
      "Training loss did not improve more than tol=0.000100 for 10 consecutive epochs. Stopping.\n",
      "Iteration 1, loss = 0.01666346\n",
      "Iteration 2, loss = 0.00804104\n",
      "Iteration 3, loss = 0.00421951\n",
      "Iteration 4, loss = 0.00226472\n",
      "Iteration 5, loss = 0.00152418\n",
      "Iteration 6, loss = 0.00110817\n",
      "Iteration 7, loss = 0.00082296\n",
      "Iteration 8, loss = 0.00065706\n",
      "Iteration 9, loss = 0.00055434\n",
      "Iteration 10, loss = 0.00048644\n",
      "Iteration 11, loss = 0.00043228\n",
      "Iteration 12, loss = 0.00037591\n",
      "Iteration 13, loss = 0.00034192\n",
      "Iteration 14, loss = 0.00029698\n",
      "Iteration 15, loss = 0.00029522\n",
      "Iteration 16, loss = 0.00027136\n",
      "Iteration 17, loss = 0.00024899\n",
      "Iteration 18, loss = 0.00022930\n",
      "Iteration 19, loss = 0.00021059\n",
      "Iteration 20, loss = 0.00019590\n",
      "Training loss did not improve more than tol=0.000100 for 10 consecutive epochs. Stopping.\n",
      "Iteration 1, loss = 0.00846069\n",
      "Iteration 2, loss = 0.00445244\n",
      "Iteration 3, loss = 0.00294485\n",
      "Iteration 4, loss = 0.00184722\n",
      "Iteration 5, loss = 0.00122712\n",
      "Iteration 6, loss = 0.00083753\n",
      "Iteration 7, loss = 0.00059635\n",
      "Iteration 8, loss = 0.00046156\n",
      "Iteration 9, loss = 0.00037156\n",
      "Iteration 10, loss = 0.00031561\n",
      "Iteration 11, loss = 0.00026678\n",
      "Iteration 12, loss = 0.00023323\n",
      "Iteration 13, loss = 0.00020754\n",
      "Iteration 14, loss = 0.00018561\n",
      "Iteration 15, loss = 0.00016977\n",
      "Iteration 16, loss = 0.00015487\n",
      "Iteration 17, loss = 0.00014603\n",
      "Iteration 18, loss = 0.00013612\n",
      "Iteration 19, loss = 0.00012775\n",
      "Training loss did not improve more than tol=0.000100 for 10 consecutive epochs. Stopping.\n",
      "Iteration 1, loss = 0.00302240\n",
      "Iteration 2, loss = 0.00078646\n",
      "Iteration 3, loss = 0.00058064\n",
      "Iteration 4, loss = 0.00048731\n",
      "Iteration 5, loss = 0.00041422\n",
      "Iteration 6, loss = 0.00035437\n",
      "Iteration 7, loss = 0.00030490\n",
      "Iteration 8, loss = 0.00026450\n",
      "Iteration 9, loss = 0.00023188\n",
      "Iteration 10, loss = 0.00020541\n",
      "Iteration 11, loss = 0.00018365\n",
      "Iteration 12, loss = 0.00016574\n",
      "Iteration 13, loss = 0.00015079\n",
      "Iteration 14, loss = 0.00013828\n",
      "Training loss did not improve more than tol=0.000100 for 10 consecutive epochs. Stopping.\n",
      "Iteration 1, loss = 0.04467366\n",
      "Iteration 2, loss = 0.02507689\n",
      "Iteration 3, loss = 0.01943931\n",
      "Iteration 4, loss = 0.01716353\n",
      "Iteration 5, loss = 0.01601158\n",
      "Iteration 6, loss = 0.01547859\n",
      "Iteration 7, loss = 0.01495784\n",
      "Iteration 8, loss = 0.01474770\n",
      "Iteration 9, loss = 0.01424732\n",
      "Iteration 10, loss = 0.01439464\n",
      "Iteration 11, loss = 0.01400306\n",
      "Iteration 12, loss = 0.01397464\n",
      "Iteration 13, loss = 0.01401256\n",
      "Iteration 14, loss = 0.01369424\n",
      "Iteration 15, loss = 0.01388502\n"
     ]
    }
   ],
   "source": [
    "pipe_mlp = pipe_mlp.fit(X_train, y_train)"
   ]
  },
  {
   "cell_type": "code",
   "execution_count": null,
   "metadata": {},
   "outputs": [],
   "source": [
    "y_score_mlp = pipe_mlp.predict_proba(X_test)\n",
    "fpr_mlp = dict()\n",
    "tpr_mlp = dict()\n",
    "roc_auc_mlp = dict()\n",
    "for i in range(n_classes):\n",
    "    fpr_mlp[i], tpr_mlp[i], _ = roc_curve(y_test[:, i], y_score_mlp[:, i])\n",
    "    roc_auc_mlp[i] = auc(fpr_mlp[i], tpr_mlp[i])"
   ]
  },
  {
   "cell_type": "code",
   "execution_count": null,
   "metadata": {},
   "outputs": [],
   "source": [
    "lw = 2\n",
    "classes = [\"DoS\",\"D.P\",\"M.C\",\"M.O\",\"SC\",\"SP\",\"W.S\",\"NL\"]\n",
    "plt.figure(figsize=(7,6))\n",
    "ax=plt.subplot(111)\n",
    "colors = cycle(['red','maroon','navy','aqua', 'darkorange', 'cornflowerblue','olive','darkslategray'])\n",
    "for i, color in zip(range(n_classes), colors):\n",
    "    plt.plot(fpr_mlp[i], tpr_mlp[i], color=color, lw=lw,\n",
    "             label='{0} (area = {1:0.2f})'\n",
    "             ''.format(classes[i], roc_auc_mlp[i]))\n",
    "\n",
    "plt.plot([0, 1], [0, 1], 'k--', lw=lw)\n",
    "plt.xlim([0.0, 1.0])\n",
    "plt.ylim([0.0, 1.0])\n",
    "plt.xticks(fontsize=11,weight='bold')\n",
    "plt.yticks(fontsize=11,weight='bold')\n",
    "plt.setp(ax.spines.values(), linewidth=2)\n",
    "ax.xaxis.set_tick_params(width=2)\n",
    "ax.yaxis.set_tick_params(width=2)\n",
    "plt.xlabel('False Positive Rate',fontsize=12,weight='bold')\n",
    "plt.ylabel('True Positive Rate',fontsize=12,weight='bold')\n",
    "plt.legend(loc=\"lower right\")\n",
    "plt.savefig(\"ROC_of_MLP\")"
   ]
  }
 ],
 "metadata": {
  "kernelspec": {
   "display_name": "Python 3",
   "language": "python",
   "name": "python3"
  },
  "language_info": {
   "codemirror_mode": {
    "name": "ipython",
    "version": 3
   },
   "file_extension": ".py",
   "mimetype": "text/x-python",
   "name": "python",
   "nbconvert_exporter": "python",
   "pygments_lexer": "ipython3",
   "version": "3.8.8"
  }
 },
 "nbformat": 4,
 "nbformat_minor": 2
}
